{
 "cells": [
  {
   "cell_type": "code",
   "execution_count": 22,
   "id": "16c6beba",
   "metadata": {},
   "outputs": [],
   "source": [
    "import yaml\n",
    "from jinja2 import Template\n",
    "from glob import glob\n",
    "import os.path\n",
    "import os\n",
    "\n",
    "\n",
    "def get_template(path):\n",
    "    with open(path) as f:\n",
    "        return Template(f.read())\n",
    "    \n",
    "def get_yaml(path):\n",
    "    with open(path) as f:\n",
    "        return yaml.load(f, yaml.Loader)\n",
    "    \n",
    "def write_template(path, template, d):\n",
    "    with open(path, 'w') as f:\n",
    "        f.write(template.render(**d))\n",
    "        \n",
    "html_path = './html'\n",
    "plan_path = './plan.yaml'\n",
    "meal_template = get_template('./templates/meal.html')\n",
    "plan_template = get_template('./templates/index.html')"
   ]
  },
  {
   "cell_type": "code",
   "execution_count": 23,
   "id": "7657a77f",
   "metadata": {},
   "outputs": [],
   "source": [
    "plan = get_yaml(plan_path)"
   ]
  },
  {
   "cell_type": "code",
   "execution_count": 24,
   "id": "7681da39",
   "metadata": {},
   "outputs": [
    {
     "name": "stdout",
     "output_type": "stream",
     "text": [
      "./meals/breakfast-bars.yaml\n",
      "./meals/breakfast-for-dinner.yaml\n",
      "./meals/apple-pie-porridge.yaml\n",
      "./meals/black-bean-soup.yaml\n",
      "./meals/mushroom-and-wild-rice-soup.yaml\n",
      "./meals/mac-and-cheese.yaml\n",
      "./meals/red-beans-and-rice.yaml\n"
     ]
    }
   ],
   "source": [
    "meal_data = {}\n",
    "for meal_path in glob('./meals/*.yaml'):\n",
    "    print(meal_path)\n",
    "    meal_filename = os.path.split(meal_path)[1]\n",
    "    meal_name = os.path.splitext(meal_filename)[0]\n",
    "    meal_html_name = meal_name + '.html'\n",
    "    meal_html_path = os.path.join(html_path, meal_html_name)\n",
    "    meal_data[meal_name] = get_yaml(meal_path)\n",
    "    write_template(meal_html_path, meal_template, meal_data[meal_name])"
   ]
  },
  {
   "cell_type": "code",
   "execution_count": 25,
   "id": "03626ec8",
   "metadata": {},
   "outputs": [
    {
     "data": {
      "text/plain": [
       "{'monday': {'breakfast': 'breakfast-bars', 'dinner': 'black-bean-soup'},\n",
       " 'tuesday': {'breakfast': 'breakfast-bars', 'dinner': 'black-bean-soup'},\n",
       " 'wednesday': {'breakfast': 'breakfast-bars',\n",
       "  'dinner': 'breakfast-for-dinner'},\n",
       " 'thursday': {'breakfast': 'breakfast-bars', 'dinner': 'red-beans-and-rice'},\n",
       " 'friday': {'breakfast': 'apple-pie-porridge',\n",
       "  'dinner': 'mushroom-and-wild-rice-soup'},\n",
       " 'saturday': {'breakfast': 'breakfast-bars', 'dinner': 'mac-and-cheese'},\n",
       " 'sunday': {'breakfast': 'breakfast-bars', 'dinner': 'black-bean-soup'}}"
      ]
     },
     "execution_count": 25,
     "metadata": {},
     "output_type": "execute_result"
    }
   ],
   "source": [
    "plan"
   ]
  },
  {
   "cell_type": "code",
   "execution_count": 26,
   "id": "23b64c9a",
   "metadata": {},
   "outputs": [],
   "source": [
    "plan_html_path = os.path.join(html_path, 'index.html')\n",
    "d = {'meal_data':meal_data, 'plan': plan}\n",
    "write_template(plan_html_path, plan_template, d)"
   ]
  },
  {
   "cell_type": "code",
   "execution_count": 27,
   "id": "4a40f48a",
   "metadata": {},
   "outputs": [
    {
     "data": {
      "text/plain": [
       "{'monday': {'breakfast': 'breakfast-bars', 'dinner': 'black-bean-soup'},\n",
       " 'tuesday': {'breakfast': 'breakfast-bars', 'dinner': 'black-bean-soup'},\n",
       " 'wednesday': {'breakfast': 'breakfast-bars',\n",
       "  'dinner': 'breakfast-for-dinner'},\n",
       " 'thursday': {'breakfast': 'breakfast-bars', 'dinner': 'red-beans-and-rice'},\n",
       " 'friday': {'breakfast': 'apple-pie-porridge',\n",
       "  'dinner': 'mushroom-and-wild-rice-soup'},\n",
       " 'saturday': {'breakfast': 'breakfast-bars', 'dinner': 'mac-and-cheese'},\n",
       " 'sunday': {'breakfast': 'breakfast-bars', 'dinner': 'black-bean-soup'}}"
      ]
     },
     "execution_count": 27,
     "metadata": {},
     "output_type": "execute_result"
    }
   ],
   "source": [
    "plan"
   ]
  },
  {
   "cell_type": "code",
   "execution_count": 28,
   "id": "51d55103",
   "metadata": {},
   "outputs": [
    {
     "data": {
      "text/plain": [
       "'Breakfast bars'"
      ]
     },
     "execution_count": 28,
     "metadata": {},
     "output_type": "execute_result"
    }
   ],
   "source": [
    "meal_data['breakfast-bars']['name']"
   ]
  },
  {
   "cell_type": "code",
   "execution_count": null,
   "id": "f842d3f1",
   "metadata": {},
   "outputs": [],
   "source": []
  },
  {
   "cell_type": "code",
   "execution_count": null,
   "id": "3c913967",
   "metadata": {},
   "outputs": [],
   "source": []
  }
 ],
 "metadata": {
  "kernelspec": {
   "display_name": "Python 3 (ipykernel)",
   "language": "python",
   "name": "python3"
  },
  "language_info": {
   "codemirror_mode": {
    "name": "ipython",
    "version": 3
   },
   "file_extension": ".py",
   "mimetype": "text/x-python",
   "name": "python",
   "nbconvert_exporter": "python",
   "pygments_lexer": "ipython3",
   "version": "3.9.7"
  }
 },
 "nbformat": 4,
 "nbformat_minor": 5
}
