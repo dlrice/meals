{
 "cells": [
  {
   "cell_type": "code",
   "execution_count": 22,
   "id": "dc33639c",
   "metadata": {},
   "outputs": [],
   "source": [
    "import yaml\n",
    "from jinja2 import Template\n",
    "from glob import glob\n",
    "import os.path\n",
    "import os\n",
    "\n",
    "\n",
    "def get_template(path):\n",
    "    with open(path) as f:\n",
    "        return Template(f.read())\n",
    "    \n",
    "def get_yaml(path):\n",
    "    with open(path) as f:\n",
    "        return yaml.load(f, yaml.Loader)\n",
    "    \n",
    "def write_template(path, template, d):\n",
    "    with open(path, 'w') as f:\n",
    "        f.write(template.render(**d))\n",
    "        \n",
    "html_path = './html'\n",
    "plan_path = './plan.yaml'\n",
    "meal_template = get_template('./templates/meal.html')\n",
    "plan_template = get_template('./templates/index.html')"
   ]
  },
  {
   "cell_type": "code",
   "execution_count": 23,
   "id": "9bd6a2bc",
   "metadata": {},
   "outputs": [],
   "source": [
    "plan = get_yaml(plan_path)"
   ]
  },
  {
   "cell_type": "code",
   "execution_count": 24,
   "id": "87020b89",
   "metadata": {},
   "outputs": [
    {
     "name": "stdout",
     "output_type": "stream",
     "text": [
      "./meals/breakfast-bars.yaml\n",
      "./meals/breakfast-for-dinner.yaml\n",
      "./meals/apple-pie-porridge.yaml\n",
      "./meals/black-bean-soup.yaml\n",
      "./meals/mushroom-and-wild-rice-soup.yaml\n",
      "./meals/mac-and-cheese.yaml\n",
      "./meals/red-beans-and-rice.yaml\n"
     ]
    }
   ],
   "source": [
    "meal_data = {}\n",
    "for meal_path in glob('./meals/*.yaml'):\n",
    "    print(meal_path)\n",
    "    meal_filename = os.path.split(meal_path)[1]\n",
    "    meal_name = os.path.splitext(meal_filename)[0]\n",
    "    meal_html_name = meal_name + '.html'\n",
    "    meal_html_path = os.path.join(html_path, meal_html_name)\n",
    "    meal_data[meal_name] = get_yaml(meal_path)\n",
    "    write_template(meal_html_path, meal_template, meal_data[meal_name])"
   ]
  },
  {
   "cell_type": "code",
   "execution_count": 25,
   "id": "23f624f7",
   "metadata": {},
   "outputs": [
    {
     "data": {
      "text/plain": [
       "{'monday': {'breakfast': 'breakfast-bars', 'dinner': 'black-bean-soup'},\n",
       " 'tuesday': {'breakfast': 'breakfast-bars', 'dinner': 'black-bean-soup'},\n",
       " 'wednesday': {'breakfast': 'breakfast-bars',\n",
       "  'dinner': 'breakfast-for-dinner'},\n",
       " 'thursday': {'breakfast': 'breakfast-bars', 'dinner': 'red-beans-and-rice'},\n",
       " 'friday': {'breakfast': 'apple-pie-porridge',\n",
       "  'dinner': 'mushroom-and-wild-rice-soup'},\n",
       " 'saturday': {'breakfast': 'breakfast-bars', 'dinner': 'mac-and-cheese'},\n",
       " 'sunday': {'breakfast': 'breakfast-bars', 'dinner': 'black-bean-soup'}}"
      ]
     },
     "execution_count": 25,
     "metadata": {},
     "output_type": "execute_result"
    }
   ],
   "source": [
    "plan"
   ]
  },
  {
   "cell_type": "code",
   "execution_count": 26,
   "id": "19ea153d",
   "metadata": {},
   "outputs": [],
   "source": [
    "plan_html_path = os.path.join(html_path, 'index.html')\n",
    "d = {'meal_data':meal_data, 'plan': plan}\n",
    "write_template(plan_html_path, plan_template, d)"
   ]
  },
  {
   "cell_type": "code",
   "execution_count": 27,
   "id": "4aec3797",
   "metadata": {},
   "outputs": [
    {
     "data": {
      "text/plain": [
       "{'monday': {'breakfast': 'breakfast-bars', 'dinner': 'black-bean-soup'},\n",
       " 'tuesday': {'breakfast': 'breakfast-bars', 'dinner': 'black-bean-soup'},\n",
       " 'wednesday': {'breakfast': 'breakfast-bars',\n",
       "  'dinner': 'breakfast-for-dinner'},\n",
       " 'thursday': {'breakfast': 'breakfast-bars', 'dinner': 'red-beans-and-rice'},\n",
       " 'friday': {'breakfast': 'apple-pie-porridge',\n",
       "  'dinner': 'mushroom-and-wild-rice-soup'},\n",
       " 'saturday': {'breakfast': 'breakfast-bars', 'dinner': 'mac-and-cheese'},\n",
       " 'sunday': {'breakfast': 'breakfast-bars', 'dinner': 'black-bean-soup'}}"
      ]
     },
     "execution_count": 27,
     "metadata": {},
     "output_type": "execute_result"
    }
   ],
   "source": [
    "plan"
   ]
  },
  {
   "cell_type": "code",
   "execution_count": 28,
   "id": "f501fe3b",
   "metadata": {},
   "outputs": [
    {
     "data": {
      "text/plain": [
       "'Breakfast bars'"
      ]
     },
     "execution_count": 28,
     "metadata": {},
     "output_type": "execute_result"
    }
   ],
   "source": [
    "meal_data['breakfast-bars']['name']"
   ]
  },
  {
   "cell_type": "code",
   "execution_count": null,
   "id": "b1742080",
   "metadata": {},
   "outputs": [],
   "source": []
  },
  {
   "cell_type": "code",
   "execution_count": null,
   "id": "8241286b",
   "metadata": {},
   "outputs": [],
   "source": []
  }
 ],
 "metadata": {
  "kernelspec": {
   "display_name": "Python 3 (ipykernel)",
   "language": "python",
   "name": "python3"
  },
  "language_info": {
   "codemirror_mode": {
    "name": "ipython",
    "version": 3
   },
   "file_extension": ".py",
   "mimetype": "text/x-python",
   "name": "python",
   "nbconvert_exporter": "python",
   "pygments_lexer": "ipython3",
   "version": "3.9.7"
  }
 },
 "nbformat": 4,
 "nbformat_minor": 5
}
