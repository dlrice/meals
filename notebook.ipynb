{
 "cells": [
  {
   "cell_type": "code",
   "execution_count": 40,
   "id": "dc33639c",
   "metadata": {},
   "outputs": [],
   "source": [
    "#!/usr/bin/env python3\n",
    "from glob import glob\n",
    "import os.path\n",
    "import os\n",
    "import shutil\n",
    "import yaml\n",
    "from jinja2 import Template\n",
    "\n",
    "build_path = \"./build\"\n",
    "plan_path = \"./plan.yaml\"\n",
    "meals_path = \"./meals\"\n",
    "\n",
    "\n",
    "def get_template(path):\n",
    "    with open(path) as f:\n",
    "        return Template(f.read())\n",
    "\n",
    "\n",
    "def get_yaml(path):\n",
    "    with open(path) as f:\n",
    "        return yaml.load(f, yaml.Loader)\n",
    "\n",
    "\n",
    "def write_template(path, template, d):\n",
    "    with open(path, \"w\") as f:\n",
    "        f.write(template.render(**d))\n",
    "\n",
    "def get_meal_set(plan):\n",
    "    return {m for d in plan.values() for m in d.values() if 'leftovers / ' not in m}\n",
    "\n",
    "\n",
    "def get_meal_path(meal):\n",
    "    return os.path.join(meals_path, f\"{meal}.yaml\")\n",
    "\n",
    "\n",
    "def get_meal_data(meal_set):\n",
    "    meal_data = {}\n",
    "    for meal in meal_set:\n",
    "        meal_path = get_meal_path(meal)\n",
    "        meal_data[meal] = get_yaml(meal_path)\n",
    "    return meal_data\n",
    "\n",
    "\n",
    "def build_meals(meal_data):\n",
    "    meal_template = get_template(\"./templates/meal.html\")\n",
    "    for meal, meal_datum in meal_data.items():\n",
    "        meal_html_path = os.path.join(build_path, f\"{meal}.html\")\n",
    "        write_template(meal_html_path, meal_template, meal_datum)\n",
    "\n",
    "        \n",
    "def build_week(plan, meal_data):\n",
    "    plan_template = get_template(\"./templates/index.html\")\n",
    "    plan_html_path = os.path.join(build_path, \"index.html\")\n",
    "    d = {\"meal_data\": meal_data, \"plan\": plan}\n",
    "    write_template(plan_html_path, plan_template, d)        \n",
    "\n",
    "    \n",
    "def build():\n",
    "    shutil.rmtree(build_path, ignore_errors=True)\n",
    "    os.makedirs(build_path)\n",
    "    shutil.copy(\"./style.css\", build_path)\n",
    "    plan = get_yaml(plan_path)\n",
    "    meal_set = get_meal_set(plan)\n",
    "    meal_data = get_meal_data(meal_set)\n",
    "    build_meals(meal_data)\n",
    "    build_week(plan, meal_data)"
   ]
  },
  {
   "cell_type": "code",
   "execution_count": 41,
   "id": "22910106",
   "metadata": {},
   "outputs": [
    {
     "name": "stdout",
     "output_type": "stream",
     "text": [
      "{'mushroom-and-wild-rice-soup': {'name': 'Mushroom and wild rice soup', 'servings': 6, 'ingredients': ['60ml olive oil', '1 onion', '3 celery stalks', '1 green bell pepper', '10 garlic cloves', '1 tbsp miso paste', '2 tsp smoked paprika', '1 tsp sweet paprika', '1 tsp onion powder', '1 tsp garlic powder', '1 tsp cayenne', '500g dried red kidney beans', '3 dried bay leaves', '3 fresh thyme sprigs', '1 tsp soy sauce', '225ml wild rice'], 'steps': ['Turn on the sauté setting on the electric pressure cooker. Melt the butter, then add the onion. Cook, stirring occasionally, until translucent, about 5 minutes.', 'Add the mushrooms and 1 teaspoon salt, and cook, stirring occasionally, about 8 minutes. Add the celery, carrot, chopped garlic, thyme, garlic powder and several generous grinds of black pepper. Stir to combine.', 'Add the flour and stir until the vegetables are evenly coated and no white spots remain.', 'Pour in the stock and lemon juice, and turn off the heat.', 'Scrape the bottom of the pot very well to incorporate flour and any browned bits that are stuck to the bottom. (This will add flavor and also prevent a burn warning later.)', 'Stir in the wild rice.', 'Cook on high pressure for 10 to 12 minutes.', 'Turn off the heat and let the pressure reduce naturally for 10 minutes, then release the remaining pressure manually.', 'Stir the soup and check the texture of the wild rice; if it needs a bit more time repeat the pressure cooking process for a cook time of 2 minutes and rapidly release the pressure.', 'Put the sour cream in a small bowl and slowly whisk in a few spoonfuls of warm soup until smooth, then stir the mixture into the soup. (This prevents the sour cream from separating.) Taste the soup and add salt and pepper to taste.', 'Serve the soup in bowls topped with chopped scallions or chives and dill.'], 'fruit-and-veg': 3, 'nuts': 0}, 'ribollita': {'name': 'Ribollita', 'servings': 6, 'ingredients': ['60ml olive oil', '1 onion', '1 large leek', '3 celery stalks', '1 small fennel bulb', '14 garlic cloves', '2 dried bay leaves', '1 tsp red-pepper flakes', '1 vegetable stock (1.25L)', '350ml dried white beans (cannellini or great Northern)', '1 can tomatoes', '3 fresh thyme sprigs', '1 fresh rosemary sprig', '1 lemon', '1 bag of kale', '2 tsp aged balsamic vinegar'], 'steps': ['Turn on the sauté setting of pressure cooker and heat the oil', 'Add the onion, season with salt, and cook, stirring occasionally, until limp and translucent, 6 to 8 minutes.', 'Add the leek, celery and fennel, season with salt, and cook, stirring occasionally, until softened and fragrant, about 8 minutes.', 'Add the chopped garlic, bay leaves, red-pepper flakes; season with a generous amount of pepper. Stir well and let the wine come to a simmer before turning off the heat.', 'Add the stock, beans, tomatoes, thyme, rosemary and lemon juice.', 'Cook on high pressure until the beans are creamy, 50 minutes to 1 hour.', 'Allow the pressure to release naturally for 10 minutes, then release the remaining pressure manually.', 'Turn on the sauté setting. Remove and discard the bay leaves and herb sprigs (if using). Stir in the greens and vinegar.', 'Let the greens cook, 2 minutes stirring occasionally.'], 'fruit-and-veg': 3, 'nuts': 0}, 'banana-pancake': {'name': 'Banana panacke', 'servings': 1, 'ingredients': ['2 eggs', '1 banana', '1/2 cup jumbo oats', '1/2 apple, sliced', '30g walnuts', '1 tbsp peanut butter', '1 tbsp extra virgin olive oil'], 'steps': ['Mash bananas in a bowl', 'Beat eggs', 'Add oats', 'Heat oil in skillet', 'Add sliced apples to skillet', 'Add batter mixture', 'Fry for 10 minutes on low/med heat', 'Flip with a plate', 'Spread peanut butter and sprinkle with walnuts', 'Fry for 3 minutes on low/med heat'], 'fruit-and-veg': 2, 'nuts': 2}, 'sri-lankan-curry': {'name': 'Sri Lankan tofu curry', 'ingredients': ['2 cups brown rice', '200g tempeh', '2 cups water', '1 onion', '2 garlic cloves', '3 carrots', '1 cauliflower', '2 celery stalks', '1 tin coconut milk', '1 cup vegetable stock', '10 cherry tomatoes', '1 tsp cinnaomon', '1 tsp tumeric', '1 tbsp mild curry powder', '1 tsp garam masala', '1 tbsp tamarind', '1 tbsp soy sauce'], 'steps': ['Saute onion, garlic, celery, carrots in instant pot', 'Add cauliflower, cherry tomatoes, tempeh, vegetable stock, coconut milk, spices', 'High pressure for 3 minutes, natural release'], 'fruit-and-veg': 5, 'nuts': 1}, 'mac-and-cheese': {'name': 'Mac & Cheese', 'servings': 6, 'ingredients': ['500g macaroni', '1 vegetable stock (1L)', '2 tbsp butter', '1 tsp hot pepper sauce', '1 tsp garlic powder', '0.5 tsp pepper', '0.5 tsp salt', '250g spinach', '500ml shredded cheddar cheese', '250ml shredded mozzarella cheese', '125ml shredded parmesan cheese', '125ml milk'], 'steps': ['Add the uncooked macaroni, vegetable stock, butter, hot sauce, garlic powder, pepper, and salt to the   - Instant Pot.', 'Cook on manual function, high pressure for 5 minutes.  Then, do a quick release.', 'Stir in the spinach', 'Add the milk', 'Add the cheese to the pot in 3-4 handfuls, stirring in between each addition until smooth and creamy.', 'Season as necessary to taste.'], 'fruit-and-veg': 1, 'nuts': 0}, 'red-beans-and-rice': {'name': 'Red beans and rice', 'servings': 6, 'ingredients': ['3 tbsp olive oil', '1 onion', '3 celery stalks', '1 green bell pepper', '10 garlic cloves', '1 tbsp miso paste', '2 tsp smoked paprika', '1 tsp sweet paprika', '1 tsp onion powder', '1 tsp garlic powder', '1 tsp cayenne', '500g dried red kidney beans', '3 dried bay leaves', '3 fresh thyme sprigs', '1 tsp soy sauce', '300ml brown rice'], 'steps': ['Use sauté setting on the electric pressure cooker and heat the oil', 'Add the onion, season with salt, and cook, stirring occasionally, until translucent, 6 to 8 minutes.', 'Add the celery and bell pepper, and cook, stirring occasionally, until softened, 5 to 8 minutes.', 'Add the chopped garlic, miso paste, smoked paprika, sweet paprika, onion powder, garlic powder, cayenne.', 'Grind in a generous amount of black pepper and add 3/4 teaspoon salt.', 'Stir well to combine all the ingredients, then turn off the sauté setting.', 'Add the beans, bay leaves, thyme and 5 1/2 cups water. Scrape the bottom of the pot to loosen any browned   - bits.', 'Cook on high pressure until the beans are creamy, 50 minutes.', 'Turn off the pressure cooker and allow the pressure to reduce naturally for 10 minutes', 'Add the soy sauce, and season to taste with salt and cayenne.', 'Using a fork, mash some of the beans against the side of the pressure cooker to make the mixture creamy. It will continue to thicken as it sits, or you can turn on the sauté setting and let the mixture bubble for a   - few minutes to thicken. Discard the bay leaves and thyme sprigs.', 'Top the beans with hot cooked rice; serve with hot sauce.'], 'fruit-and-veg': 3, 'nuts': 0}, 'black-bean-soup': {'name': 'Black bean soup', 'servings': 4, 'ingredients': ['1 red onion', '3 garlic cloves', '0.5 bunch cilantro', '1 red pepper', '2 carrots', '2 celery stalks', '1 tbsp cumin', '2 tbsp chili powder', '0.5 tsp cayenne pepper', '500ml dry black beans', '1 vegetable stock (750ml)', '1 lime', '2 tsp salt'], 'steps': ['Chop all of the veg. Divide stems and leaves from cilantro.', 'Add the Red Onion, Garlic, and diced Cilantro Stems into the Instant Pot with a splash of water.', 'Using the Sauté setting, cook the veggies for 2-3 minutes, or until translucent.', 'Next, add the Red Pepper and spices to the Instant Pot, and sauté for an additional 1-2 minutes.', 'Add the Dried Black Beans to the pot along with the Vegetable Broth. Stir well, then slowly add in Water to the instant pot until the Water line is about 1” above the dried Beans.', 'Cover and Seal the Pot, then set the pressure to Manual High for 30 Minutes.', 'Force release the pressure and carefully blend the half of the soup by using an Immersion Blender.', 'Pour into bowls, pour in lime juice and top with the cilantro leaves.'], 'fruit-and-veg': 3, 'nuts': 0}, 'porridge': {'name': 'Porridge', 'servings': 1, 'ingredients': ['1 banana sliced', '1 cup jumbo oats', '1 cup milk', '1 square dark chocolate', '1 tsp cinnamon', '1 tsp organic honey', '20g walnuts/pumpkin seeds/pecans/almonds', '1/2 cup blueberries/raspberries'], 'steps': ['Place banana, oats, milk, chocolate and cinnamon into bowl', 'Microwave for 2 minutes', 'Add nuts, honey and berries'], 'fruit-and-veg': 1, 'nuts': 1}, 'fry-up': {'name': 'Breakfast for dinner', 'servings': 1, 'ingredients': ['2 eggs', '2 hashbrowns', '0.5 avocado', '5 cherry tomatoes', '1 slice of wholewheat bread', '100g baked beans'], 'steps': ['Slice tomatoes', 'Scoop out avocado', 'Cook eggs, hashbrowns and baked beans'], 'fruit-and-veg': 2, 'nuts': 0}}\n"
     ]
    }
   ],
   "source": [
    "build()"
   ]
  },
  {
   "cell_type": "code",
   "execution_count": 173,
   "id": "87020b89",
   "metadata": {},
   "outputs": [
    {
     "name": "stdout",
     "output_type": "stream",
     "text": [
      "./meals/breakfast-bars.yaml\n",
      "./meals/breakfast-for-dinner.yaml\n",
      "./meals/apple-pie-porridge.yaml\n",
      "./meals/black-bean-soup.yaml\n",
      "./meals/mushroom-and-wild-rice-soup.yaml\n",
      "./meals/mac-and-cheese.yaml\n",
      "./meals/ribollita.yaml\n",
      "./meals/red-beans-and-rice.yaml\n"
     ]
    }
   ],
   "source": [
    "meal_data = {}\n",
    "for meal_path in glob('./meals/*.yaml'):\n",
    "    print(meal_path)\n",
    "    meal_filename = os.path.split(meal_path)[1]\n",
    "    meal_name = os.path.splitext(meal_filename)[0]\n",
    "    meal_html_name = meal_name + '.html'\n",
    "    meal_html_path = os.path.join(html_path, meal_html_name)\n",
    "    meal_data[meal_name] = get_yaml(meal_path)\n",
    "#     write_template(meal_html_path, meal_template, meal_data[meal_name])"
   ]
  },
  {
   "cell_type": "code",
   "execution_count": 5,
   "id": "2212bcf6",
   "metadata": {},
   "outputs": [],
   "source": [
    "plan = get_yaml(plan_path)"
   ]
  },
  {
   "cell_type": "code",
   "execution_count": 11,
   "id": "2f5aad0f",
   "metadata": {},
   "outputs": [],
   "source": []
  },
  {
   "cell_type": "code",
   "execution_count": 12,
   "id": "5c428fe3",
   "metadata": {},
   "outputs": [
    {
     "data": {
      "text/plain": [
       "{'almond porridge',\n",
       " 'banana pancake',\n",
       " 'black-bean-soup',\n",
       " 'fry-up',\n",
       " 'mac-and-cheese',\n",
       " 'mushroom-and-wild-rice-soup',\n",
       " 'red-beans-and-rice',\n",
       " 'ribollita',\n",
       " 'sri-lankan-curry',\n",
       " 'walnut porridge'}"
      ]
     },
     "execution_count": 12,
     "metadata": {},
     "output_type": "execute_result"
    }
   ],
   "source": [
    "meals"
   ]
  },
  {
   "cell_type": "code",
   "execution_count": 174,
   "id": "23f624f7",
   "metadata": {},
   "outputs": [],
   "source": [
    "shopping_list = defaultdict(float)\n",
    "food_to_unit = dict()\n",
    "for day in plan.values():\n",
    "    for meal in day.values():\n",
    "        for ingredient in meal_data[meal]['ingredients']:\n",
    "            food, quantity, unit = parse_item(ingredient)\n",
    "            if food in shopping_list:\n",
    "                assert food_to_unit[food] == unit\n",
    "            else:\n",
    "                food_to_unit[food] = unit\n",
    "            shopping_list[food] += quantity"
   ]
  },
  {
   "cell_type": "code",
   "execution_count": 175,
   "id": "75e2c18d",
   "metadata": {},
   "outputs": [
    {
     "name": "stdout",
     "output_type": "stream",
     "text": [
      "aged balsamic vinegar 9.85784\n",
      "avocado 0.5\n",
      "bag of kale 1.0\n",
      "baked beans 100.0\n",
      "bananas 12.0\n",
      "brown rice 300.0\n",
      "bunch cilantro 1.0\n",
      "butter 35.5164\n",
      "can tomatoes 1.0\n",
      "carrots 4.0\n",
      "cayenne 9.85784\n",
      "cayenne pepper 4.92892\n",
      "celery stalks 13.0\n",
      "cherries 360.0\n",
      "cherry tomatoes 5.0\n",
      "chili powder 71.0328\n",
      "cranberries 360.0\n",
      "cumin 35.5164\n",
      "dessert apple 1.0\n",
      "dried bay leaves 8.0\n",
      "dried red kidney beans 1000.0\n",
      "dried white beans 350.0\n",
      "dry black beans 1000.0\n",
      "eggs 2.0\n",
      "fresh rosemary sprig 1.0\n",
      "fresh thyme sprigs 9.0\n",
      "garlic cloves 40.0\n",
      "garlic powder 14.78676\n",
      "green bell pepper 2.0\n",
      "hashbrowns 2.0\n",
      "hot pepper sauce 4.92892\n",
      "jumbo oats 950.0\n",
      "large leek 1.0\n",
      "lemon 1.0\n",
      "lime 2.0\n",
      "macaroni 500.0\n",
      "melted butter 360.0\n",
      "milk 325.0\n",
      "miso paste 35.5164\n",
      "nuts (walnuts 20.0\n",
      "olive oil 173.2746\n",
      "onion 3.0\n",
      "onion powder 9.85784\n",
      "pecans 240.0\n",
      "pepper 2.46446\n",
      "pinch of cinnamon 1.0\n",
      "pumpkin seeds 240.0\n",
      "red onion 2.0\n",
      "red pepper 2.0\n",
      "red-pepper flakes 4.92892\n",
      "salt 22.180139999999998\n",
      "shredded cheddar cheese 500.0\n",
      "shredded mozzarella cheese 250.0\n",
      "shredded parmesan cheese 125.0\n",
      "slice of wholewheat bread 1.0\n",
      "small fennel bulb 1.0\n",
      "smoked paprika 19.71568\n",
      "soy sauce 9.85784\n",
      "spinach 250.0\n",
      "sunflower seeds 240.0\n",
      "sweet paprika 9.85784\n",
      "vegetable stock 4.0\n",
      "walnuts 240.0\n",
      "wild rice 225.0\n"
     ]
    }
   ],
   "source": [
    "for k in sorted(shopping_list):\n",
    "    print(k, shopping_list[k])"
   ]
  },
  {
   "cell_type": "code",
   "execution_count": 115,
   "id": "1203dcf6",
   "metadata": {},
   "outputs": [],
   "source": []
  },
  {
   "cell_type": "code",
   "execution_count": 59,
   "id": "74b9c808",
   "metadata": {},
   "outputs": [
    {
     "data": {
      "text/plain": [
       "defaultdict(float,\n",
       "            {'jumbo oats': 150.0,\n",
       "             'very ripe medium bananas': 2.0,\n",
       "             'melted butter': 60.0,\n",
       "             'cherries': 60.0,\n",
       "             'cranberries': 60.0,\n",
       "             'sunflower seeds': 40.0,\n",
       "             'pumpkin seeds': 40.0,\n",
       "             'walnuts': 40.0,\n",
       "             'pecans': 40.0})"
      ]
     },
     "execution_count": 59,
     "metadata": {},
     "output_type": "execute_result"
    }
   ],
   "source": [
    "shopping_list"
   ]
  },
  {
   "cell_type": "code",
   "execution_count": 60,
   "id": "b97b79b8",
   "metadata": {},
   "outputs": [
    {
     "data": {
      "text/plain": [
       "{'jumbo oats': 'g',\n",
       " 'very ripe medium bananas': None,\n",
       " 'melted butter': 'g',\n",
       " 'cherries': 'g',\n",
       " 'cranberries': 'g',\n",
       " 'sunflower seeds': 'g',\n",
       " 'pumpkin seeds': 'g',\n",
       " 'walnuts': 'g',\n",
       " 'pecans': 'g'}"
      ]
     },
     "execution_count": 60,
     "metadata": {},
     "output_type": "execute_result"
    }
   ],
   "source": [
    "food_to_unit"
   ]
  },
  {
   "cell_type": "code",
   "execution_count": 55,
   "id": "2dee9836",
   "metadata": {},
   "outputs": [
    {
     "data": {
      "text/plain": [
       "40.0"
      ]
     },
     "execution_count": 55,
     "metadata": {},
     "output_type": "execute_result"
    }
   ],
   "source": [
    "quantity"
   ]
  },
  {
   "cell_type": "code",
   "execution_count": 56,
   "id": "195a5c73",
   "metadata": {},
   "outputs": [
    {
     "data": {
      "text/plain": [
       "'g'"
      ]
     },
     "execution_count": 56,
     "metadata": {},
     "output_type": "execute_result"
    }
   ],
   "source": [
    "unit"
   ]
  },
  {
   "cell_type": "code",
   "execution_count": 23,
   "id": "7f59de1a",
   "metadata": {},
   "outputs": [],
   "source": []
  },
  {
   "cell_type": "code",
   "execution_count": 1,
   "id": "f99df36d",
   "metadata": {},
   "outputs": [],
   "source": [
    "import re\n",
    "from collections import defaultdict\n",
    "\n",
    "def parse_item(item):\n",
    "    p = re.compile(r'(?P<quantity>[0-9\\.]+)\\s*(?P<unit>ml|g|tbsp|tsp|L)?\\s+(?P<food>.+)')\n",
    "    conversion = {\n",
    "        'tbsp': 17.7582,\n",
    "        'tsp': 4.92892,\n",
    "        'L': 1000,\n",
    "    }\n",
    "    m = p.match(item)\n",
    "    gd = m.groupdict()\n",
    "    quantity = float(gd['quantity'])\n",
    "    food = gd['food']\n",
    "    unit = gd['unit'] if 'unit' in gd else None\n",
    "    if gd['unit']:\n",
    "        unit = gd['unit']\n",
    "        if unit in conversion:\n",
    "            quantity *= conversion[unit]\n",
    "            unit = 'ml'\n",
    "    food = re.sub(r',.*$', '', food).strip()\n",
    "    food = re.sub(r'\\(.*\\)', '', food).strip()\n",
    "    return food, quantity, unit"
   ]
  },
  {
   "cell_type": "code",
   "execution_count": 2,
   "id": "aa1a23e2",
   "metadata": {},
   "outputs": [
    {
     "data": {
      "text/plain": [
       "('nuts', 17.7582, 'ml')"
      ]
     },
     "execution_count": 2,
     "metadata": {},
     "output_type": "execute_result"
    }
   ],
   "source": [
    "parse_item('1 tbsp nuts (nice)')"
   ]
  },
  {
   "cell_type": "code",
   "execution_count": 118,
   "id": "afe5092a",
   "metadata": {},
   "outputs": [],
   "source": [
    "f = _[0]"
   ]
  },
  {
   "cell_type": "code",
   "execution_count": 123,
   "id": "642aa90b",
   "metadata": {},
   "outputs": [
    {
     "data": {
      "text/plain": [
       "'nuts'"
      ]
     },
     "execution_count": 123,
     "metadata": {},
     "output_type": "execute_result"
    }
   ],
   "source": []
  },
  {
   "cell_type": "code",
   "execution_count": null,
   "id": "756b0f52",
   "metadata": {},
   "outputs": [],
   "source": [
    "re.sub(r'[^\\w]', ' ', s)"
   ]
  },
  {
   "cell_type": "code",
   "execution_count": 26,
   "id": "19ea153d",
   "metadata": {},
   "outputs": [],
   "source": [
    "plan_html_path = os.path.join(html_path, 'index.html')\n",
    "d = {'meal_data':meal_data, 'plan': plan}\n",
    "write_template(plan_html_path, plan_template, d)"
   ]
  },
  {
   "cell_type": "code",
   "execution_count": 27,
   "id": "4aec3797",
   "metadata": {},
   "outputs": [
    {
     "data": {
      "text/plain": [
       "{'monday': {'breakfast': 'breakfast-bars', 'dinner': 'black-bean-soup'},\n",
       " 'tuesday': {'breakfast': 'breakfast-bars', 'dinner': 'black-bean-soup'},\n",
       " 'wednesday': {'breakfast': 'breakfast-bars',\n",
       "  'dinner': 'breakfast-for-dinner'},\n",
       " 'thursday': {'breakfast': 'breakfast-bars', 'dinner': 'red-beans-and-rice'},\n",
       " 'friday': {'breakfast': 'apple-pie-porridge',\n",
       "  'dinner': 'mushroom-and-wild-rice-soup'},\n",
       " 'saturday': {'breakfast': 'breakfast-bars', 'dinner': 'mac-and-cheese'},\n",
       " 'sunday': {'breakfast': 'breakfast-bars', 'dinner': 'black-bean-soup'}}"
      ]
     },
     "execution_count": 27,
     "metadata": {},
     "output_type": "execute_result"
    }
   ],
   "source": [
    "plan"
   ]
  },
  {
   "cell_type": "code",
   "execution_count": 28,
   "id": "f501fe3b",
   "metadata": {},
   "outputs": [
    {
     "data": {
      "text/plain": [
       "'Breakfast bars'"
      ]
     },
     "execution_count": 28,
     "metadata": {},
     "output_type": "execute_result"
    }
   ],
   "source": [
    "meal_data['breakfast-bars']['name']"
   ]
  },
  {
   "cell_type": "code",
   "execution_count": 3,
   "id": "b1742080",
   "metadata": {},
   "outputs": [
    {
     "data": {
      "text/plain": [
       "{'monday': {'breakfast': 'breakfast-bars', 'dinner': 'ribollita'},\n",
       " 'tuesday': {'breakfast': 'breakfast-bars', 'dinner': 'black-bean-soup'},\n",
       " 'wednesday': {'breakfast': 'breakfast-bars',\n",
       "  'dinner': 'breakfast-for-dinner'},\n",
       " 'thursday': {'breakfast': 'breakfast-bars', 'dinner': 'red-beans-and-rice'},\n",
       " 'friday': {'breakfast': 'apple-pie-porridge',\n",
       "  'dinner': 'mushroom-and-wild-rice-soup'},\n",
       " 'saturday': {'breakfast': 'breakfast-bars', 'dinner': 'mac-and-cheese'},\n",
       " 'sunday': {'breakfast': 'breakfast-bars', 'dinner': 'black-bean-soup'}}"
      ]
     },
     "execution_count": 3,
     "metadata": {},
     "output_type": "execute_result"
    }
   ],
   "source": [
    "plan"
   ]
  },
  {
   "cell_type": "code",
   "execution_count": null,
   "id": "8241286b",
   "metadata": {},
   "outputs": [],
   "source": []
  }
 ],
 "metadata": {
  "kernelspec": {
   "display_name": "Python 3 (ipykernel)",
   "language": "python",
   "name": "python3"
  },
  "language_info": {
   "codemirror_mode": {
    "name": "ipython",
    "version": 3
   },
   "file_extension": ".py",
   "mimetype": "text/x-python",
   "name": "python",
   "nbconvert_exporter": "python",
   "pygments_lexer": "ipython3",
   "version": "3.11.3"
  }
 },
 "nbformat": 4,
 "nbformat_minor": 5
}
